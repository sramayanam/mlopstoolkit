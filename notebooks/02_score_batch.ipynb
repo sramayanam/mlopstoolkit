{
 "metadata": {
  "language_info": {
   "codemirror_mode": {
    "name": "ipython",
    "version": 3
   },
   "file_extension": ".py",
   "mimetype": "text/x-python",
   "name": "python",
   "nbconvert_exporter": "python",
   "pygments_lexer": "ipython3",
   "version": "3.8.5-final"
  },
  "orig_nbformat": 2,
  "kernelspec": {
   "name": "python3",
   "display_name": "Python 3",
   "language": "python"
  }
 },
 "nbformat": 4,
 "nbformat_minor": 2,
 "cells": [
  {
   "cell_type": "markdown",
   "source": [
    "Copyright (c) Microsoft Corporation. All rights reserved.\n",
    "\n",
    "Licensed under the MIT License."
   ],
   "metadata": {}
  },
  {
   "cell_type": "code",
   "execution_count": 431,
   "metadata": {},
   "outputs": [],
   "source": [
    "from azureml.core import Workspace, Experiment, Run, Environment\n",
    "from azureml.pipeline.core import Pipeline, PipelineData\n",
    "from azureml.data.data_reference import DataReference\n",
    "from azureml.pipeline.steps import PythonScriptStep\n",
    "from azureml.core.runconfig import RunConfiguration\n",
    "from azureml.core.compute import AmlCompute,ComputeTarget\n",
    "from azureml.core.datastore import Datastore\n",
    "\n"
   ]
  },
  {
   "cell_type": "code",
   "execution_count": 432,
   "metadata": {},
   "outputs": [],
   "source": [
    "ws = Workspace.from_config()\n",
    "default_datastore = ws.get_default_datastore()\n",
    "account_name = default_datastore.account_name\n",
    "account_key = default_datastore.account_key\n",
    "#TODO: load variables from config file\n",
    "\n",
    "exp_name = \"\"\n",
    "compute_name = \"testcompute\"\n",
    "env_name = \"\"\n",
    "\n",
    "project_dir = '../src'\n",
    "script_name = 'batch_score.py'\n",
    "model_name = \"\"\n",
    "# model_file_name = 'my_model.pkl'\n",
    "\n",
    "prediction_dataset_name = \"\"\n",
    "result_output_dir = 'outputs/'\n",
    "result_dataset = \"\"\n",
    "datastore_output_name = \"\"\n",
    "pipeline_name = \"\"\n",
    "\n",
    "container_name = \"\"\n"
   ]
  },
  {
   "cell_type": "code",
   "execution_count": 433,
   "metadata": {},
   "outputs": [],
   "source": [
    "batchscore_input = default_datastore.as_mount()\n",
    "\n",
    "\n",
    "batchscore_ds = Datastore.register_azure_blob_container(ws, \n",
    "                    datastore_name=datastore_output_name, \n",
    "                    container_name=container_name, \n",
    "                    account_name=account_name,\n",
    "                    account_key = account_key,\n",
    "                    create_if_not_exists=True)\n",
    "\n",
    "batchscore_output = DataReference(\n",
    "    batchscore_ds, \n",
    "    data_reference_name='my_output_dir', \n",
    "    path_on_datastore=result_output_dir, \n",
    "    mode='mount', \n",
    "    overwrite=True\n",
    "    )\n",
    "\n"
   ]
  },
  {
   "cell_type": "code",
   "execution_count": null,
   "metadata": {},
   "outputs": [],
   "source": []
  },
  {
   "cell_type": "code",
   "execution_count": 434,
   "metadata": {},
   "outputs": [],
   "source": [
    "compute_target = ComputeTarget(workspace=ws, name=compute_name)"
   ]
  },
  {
   "cell_type": "code",
   "execution_count": 435,
   "metadata": {},
   "outputs": [],
   "source": [
    "env = Environment(name='Inference env')\n",
    "for pip_package in [\"joblib\",\"scikit-learn\",\"pandas\",\"azureml-sdk\"]:\n",
    "    env.python.conda_dependencies.add_pip_package(pip_package)"
   ]
  },
  {
   "cell_type": "code",
   "execution_count": 436,
   "metadata": {},
   "outputs": [],
   "source": [
    "run_config = RunConfiguration()\n",
    "run_config.environment = env\n"
   ]
  },
  {
   "cell_type": "code",
   "execution_count": 437,
   "metadata": {},
   "outputs": [],
   "source": [
    "\n",
    "scoring_step = PythonScriptStep(\n",
    "    name = \"Batch Scoring\",\n",
    "    script_name = script_name,\n",
    "    compute_target = compute_target,\n",
    "    source_directory = project_dir,\n",
    "    inputs=[batchscore_output]\n",
    "    arguments = [\n",
    "        '--input-dir',\n",
    "        batchscore_input,\n",
    "        '--model-name',\n",
    "        model_name,\n",
    "        '--dataset-name',\n",
    "        prediction-dataset_name,\n",
    "        '--forecast-name',\n",
    "        result_dataset\n",
    "    ],\n",
    "    runconfig = run_config,\n",
    "    allow_reuse = True\n",
    ")\n",
    "\n"
   ]
  },
  {
   "cell_type": "code",
   "execution_count": 438,
   "metadata": {},
   "outputs": [
    {
     "output_type": "stream",
     "name": "stdout",
     "text": [
      "Step Batch Scoring is ready to be created [ddd89787]\n"
     ]
    },
    {
     "output_type": "execute_result",
     "data": {
      "text/plain": [
       "[]"
      ]
     },
     "metadata": {},
     "execution_count": 438
    }
   ],
   "source": [
    "pipeline = Pipeline(workspace=ws, steps=[scoring_step])\n",
    "pipeline.validate()"
   ]
  },
  {
   "cell_type": "code",
   "execution_count": 439,
   "metadata": {},
   "outputs": [
    {
     "output_type": "stream",
     "name": "stdout",
     "text": [
      "Created step Batch Scoring [ddd89787][fc1d6289-267e-4993-8d0c-382cb754a0b0], (This step will run and generate new outputs)\n",
      "Submitted PipelineRun 8a0bd8cb-471d-4a2c-936d-7feb2e131b78\n",
      "Link to Azure Machine Learning Portal: https://ml.azure.com/experiments/batch-scoring/runs/8a0bd8cb-471d-4a2c-936d-7feb2e131b78?wsid=/subscriptions/ed835daf-8df9-4922-a58f-74a80da0b5c0/resourcegroups/mlops-uc-sales/workspaces/mlouc1daml\n"
     ]
    }
   ],
   "source": [
    "pipeline_run = Experiment(ws,exp_name).submit(pipeline)"
   ]
  },
  {
   "cell_type": "code",
   "execution_count": 440,
   "metadata": {},
   "outputs": [
    {
     "output_type": "execute_result",
     "data": {
      "text/plain": [
       "'Running'"
      ]
     },
     "metadata": {},
     "execution_count": 440
    }
   ],
   "source": [
    "pipeline_run.get_status()"
   ]
  },
  {
   "cell_type": "code",
   "execution_count": 441,
   "metadata": {},
   "outputs": [],
   "source": [
    "if pipeline_run.get_status() == 'Completed':\n",
    "    published_endpoint, published_pipeline = pipeline_run.publish_pipeline(\n",
    "        name=pipeline_name, description=\"Batch scoring\")\n"
   ]
  },
  {
   "cell_type": "code",
   "execution_count": null,
   "metadata": {},
   "outputs": [],
   "source": []
  }
 ]
}
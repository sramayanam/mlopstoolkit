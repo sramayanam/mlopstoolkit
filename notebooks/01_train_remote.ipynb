{
 "metadata": {
  "language_info": {
   "codemirror_mode": {
    "name": "ipython",
    "version": 3
   },
   "file_extension": ".py",
   "mimetype": "text/x-python",
   "name": "python",
   "nbconvert_exporter": "python",
   "pygments_lexer": "ipython3",
   "version": "3.8.5-final"
  },
  "orig_nbformat": 2,
  "kernelspec": {
   "name": "python3",
   "display_name": "Python 3",
   "language": "python"
  }
 },
 "nbformat": 4,
 "nbformat_minor": 2,
 "cells": [
  {
   "cell_type": "markdown",
   "source": [
    "Copyright (c) Microsoft Corporation. All rights reserved.\n",
    "\n",
    "Licensed under the MIT License."
   ],
   "metadata": {}
  },
  {
   "cell_type": "code",
   "execution_count": 19,
   "metadata": {},
   "outputs": [],
   "source": [
    "import azureml.core\n",
    "from azureml.core import Workspace, Experiment, Run, Environment\n",
    "from azureml.core import ScriptRunConfig\n",
    "from azureml.core.compute import AmlCompute,ComputeTarget\n"
   ]
  },
  {
   "cell_type": "code",
   "execution_count": 20,
   "metadata": {},
   "outputs": [],
   "source": [
    "ws = Workspace.from_config()\n",
    "#TODO: load variables from config file\n",
    "\n",
    "exp_name = \"\"\n",
    "compute_name = \"cpucompute\"\n",
    "env_name = \"\"\n",
    "\n",
    "project_dir = '../src'\n",
    "script_name = 'train.py'\n",
    "model_name = \"\"\n",
    "model_output_dir = 'outputs/'\n",
    "dataset_name = \"\""
   ]
  },
  {
   "cell_type": "code",
   "execution_count": 21,
   "metadata": {},
   "outputs": [],
   "source": [
    "experiment = Experiment(workspace=ws, name=exp_name)"
   ]
  },
  {
   "cell_type": "code",
   "execution_count": 22,
   "metadata": {},
   "outputs": [],
   "source": [
    "if compute_name in ws.compute_targets:\n",
    "    compute_target = ws.compute_targets[compute_name]"
   ]
  },
  {
   "cell_type": "code",
   "execution_count": 23,
   "metadata": {},
   "outputs": [],
   "source": [
    "# env = Environment.get(workspace=ws, name=env_name)\n",
    "# env = Environment.load_from_directory('../configuration/environments/environment_training')\n",
    "env = Environment('trainingEnv')\n",
    "for pip_package in [\"joblib\",\"scikit-learn\",\"pandas\",\"azureml-sdk\"]:\n",
    "    env.python.conda_dependencies.add_pip_package(pip_package)"
   ]
  },
  {
   "cell_type": "code",
   "execution_count": 24,
   "metadata": {},
   "outputs": [],
   "source": [
    "src = ScriptRunConfig(source_directory=project_dir,\n",
    "                      script=script_name,\n",
    "                      compute_target=compute_target,\n",
    "                      environment=env,\n",
    "                      arguments=[\n",
    "                          '--dataset-name',dataset_name,\n",
    "                          '--model-name',model_name,\n",
    "                          '--output-dir',model_output_dir\n",
    "                          ]\n",
    "                      )\n"
   ]
  },
  {
   "cell_type": "code",
   "execution_count": 25,
   "metadata": {},
   "outputs": [
    {
     "output_type": "stream",
     "name": "stdout",
     "text": [
      "https://ml.azure.com/experiments/train-remote/runs/train-remote_1612952327_993b0ec1?wsid=/subscriptions/ed835daf-8df9-4922-a58f-74a80da0b5c0/resourcegroups/mlops-uc-sales/workspaces/mlouc1daml\n"
     ]
    }
   ],
   "source": [
    "run = experiment.submit(config=src)\n",
    "print(run.get_portal_url())\n"
   ]
  },
  {
   "cell_type": "code",
   "execution_count": 35,
   "metadata": {},
   "outputs": [
    {
     "output_type": "stream",
     "name": "stdout",
     "text": [
      "Completed\n"
     ]
    }
   ],
   "source": [
    "print(run.get_status())\n",
    "#run.wait_for_completion(show_output=True)"
   ]
  },
  {
   "cell_type": "code",
   "execution_count": 34,
   "metadata": {},
   "outputs": [],
   "source": [
    "if run.get_status() == 'Completed':\n",
    "    model = run.register_model(\n",
    "        model_name=model_name,\n",
    "        model_path=f'{model_output_dir}{model_name}'\n",
    "        )"
   ]
  },
  {
   "cell_type": "code",
   "execution_count": null,
   "metadata": {},
   "outputs": [],
   "source": []
  }
 ]
}
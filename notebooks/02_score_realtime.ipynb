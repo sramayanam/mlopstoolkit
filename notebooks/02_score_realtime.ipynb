{
 "metadata": {
  "language_info": {
   "codemirror_mode": {
    "name": "ipython",
    "version": 3
   },
   "file_extension": ".py",
   "mimetype": "text/x-python",
   "name": "python",
   "nbconvert_exporter": "python",
   "pygments_lexer": "ipython3",
   "version": "3.8.5-final"
  },
  "orig_nbformat": 2,
  "kernelspec": {
   "name": "python3",
   "display_name": "Python 3",
   "language": "python"
  }
 },
 "nbformat": 4,
 "nbformat_minor": 2,
 "cells": [
  {
   "cell_type": "markdown",
   "source": [
    "Copyright (c) Microsoft Corporation. All rights reserved.\n",
    "\n",
    "Licensed under the MIT License."
   ],
   "metadata": {}
  },
  {
   "cell_type": "code",
   "execution_count": null,
   "metadata": {},
   "outputs": [],
   "source": [
    "import azureml.core\n",
    "from azureml.core import Workspace, Experiment, Run, Environment\n",
    "from azureml.core.model import InferenceConfig\n",
    "from azureml.core.webservice import AciWebservice, LocalWebservice, Webservice\n",
    "from azureml.core.model import Model\n",
    "\n",
    "## test services\n",
    "import requests\n",
    "import json"
   ]
  },
  {
   "cell_type": "code",
   "execution_count": null,
   "metadata": {},
   "outputs": [],
   "source": [
    "ws = Workspace.from_config()\n",
    "#TODO: load variables from config file\n",
    "\n",
    "env_name = \"AzureML-Minimal\"\n",
    "\n",
    "project_folder = '../src'\n",
    "script_name = 'score.py'\n",
    "model_name = 'my_model.pkl'\n",
    "service_name = 'myservice'"
   ]
  },
  {
   "cell_type": "code",
   "execution_count": null,
   "metadata": {},
   "outputs": [],
   "source": [
    "# env = Environment(\"LocalDeploy\")\n",
    "env = Environment.get(ws, env_name)\n",
    "\n",
    "#add env name to retrieve model\n",
    "env.environment_variables['MODEL_NAME'] = model_name\n",
    "\n",
    "#TODO: retrieve from local env file\n",
    "for pip_package in [\"pip\",\"scikit-learn\",\"joblib\"]:\n",
    "    env.python.conda_dependencies.add_pip_package(pip_package)\n",
    "# env.python.conda_dependencies.add_pip_package('azureml-sdk')\n",
    "\n",
    "## Local deployment for debugging\n",
    "deployment_config = LocalWebservice.deploy_configuration(port=6789)\n",
    "## ACI deployment for DEV\n",
    "# deployment_config = AciWebservice.deploy_configuration(cpu_cores = 1, memory_gb = 1)\n",
    "\n",
    "inference_config = InferenceConfig(entry_script=project_folder+'/'+script_name, environment=env)\n",
    "\n",
    "#link to the registered model\n",
    "model = Model(workspace=ws,name=model_name)"
   ]
  },
  {
   "cell_type": "code",
   "execution_count": null,
   "metadata": {
    "tags": [
     "outputPrepend"
    ]
   },
   "outputs": [],
   "source": [
    "service = Model.deploy(ws, service_name, [model], inference_config, deployment_config)\n",
    "service.wait_for_deployment(show_output = True)\n"
   ]
  },
  {
   "cell_type": "code",
   "execution_count": null,
   "metadata": {},
   "outputs": [],
   "source": [
    "print(service.state)"
   ]
  },
  {
   "cell_type": "code",
   "execution_count": null,
   "metadata": {},
   "outputs": [],
   "source": [
    "print(service.get_logs())"
   ]
  },
  {
   "cell_type": "code",
   "execution_count": null,
   "metadata": {},
   "outputs": [],
   "source": [
    "## If you need to get the service from azure or local\n",
    "# service = Webservice(ws,service_name)\n",
    "# service = LocalWebservice(ws,service_name)\n"
   ]
  },
  {
   "cell_type": "code",
   "execution_count": null,
   "metadata": {},
   "outputs": [],
   "source": [
    "# If you need to update the service\n",
    "# service.reload()\n"
   ]
  },
  {
   "cell_type": "code",
   "execution_count": null,
   "metadata": {},
   "outputs": [],
   "source": [
    "data = {\n",
    "    'data':\n",
    "    {\n",
    "        'WeekStarting': {\n",
    "            0: '1990-06-14 00:00:00',1: '1990-06-21 00:00:00',\n",
    "            2: '1990-06-28 00:00:00',\n",
    "            3: '1990-07-05 00:00:00',\n",
    "            4: '1990-07-12 00:00:00'\n",
    "            },\n",
    "        'Store': {0: 1000, 1: 1000, 2: 1000, 3: 1000, 4: 1000},\n",
    "        'Brand': {0: 'dominicks',1: 'dominicks',2: 'dominicks',3: 'dominicks',4: 'dominicks'},\n",
    "        'Quantity': {0: 12003, 1: 10239, 2: 17917, 3: 14218, 4: 15925},\n",
    "        'Advert': {0: 1, 1: 1, 2: 1, 3: 1, 4: 1},\n",
    "        'Price': {0: 2.59, 1: 2.39, 2: 2.48, 3: 2.33, 4: 2.01},\n",
    "        'Revenue': {0: 31087.769999999997,1: 24471.210000000003,2: 44434.159999999996,3: 33127.94,4: 32009.249999999996}\n",
    "        }\n",
    "  }\n",
    "\n",
    "\n",
    "input_data = json.dumps(data)\n",
    "\n",
    "# Set the content type\n",
    "headers = {'Content-Type': 'application/json'}\n",
    "\n",
    "# URL for the web service\n",
    "scoring_uri = \"http://localhost:6789/score\"\n",
    "    \n",
    "\n",
    "if not isinstance(service,LocalWebservice):\n",
    "\n",
    "    #set uri\n",
    "    scoring_uri = service.scoring_uri\n",
    "\n",
    "    # If the service is authenticated, set the key or token\n",
    "    key = service.swagger_uri\n",
    "\n",
    "    # If authentication is enabled, set the authorization header\n",
    "    headers['Authorization'] = f'Bearer {key}'\n",
    "\n",
    "# Make the request and display the response\n",
    "resp = requests.post(scoring_uri, input_data, headers=headers)\n",
    "# resp = service.run(input_data)\n",
    "print(resp.text)"
   ]
  },
  {
   "cell_type": "code",
   "execution_count": null,
   "metadata": {},
   "outputs": [],
   "source": [
    "# Delete webservice when done\n",
    "# service.delete()"
   ]
  },
  {
   "cell_type": "code",
   "execution_count": null,
   "metadata": {},
   "outputs": [],
   "source": []
  }
 ]
}